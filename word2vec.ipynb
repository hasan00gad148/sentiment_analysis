{
 "cells": [
  {
   "cell_type": "code",
   "execution_count": 1,
   "metadata": {},
   "outputs": [],
   "source": [
    "import os\n",
    "import numpy as np\n",
    "import nltk\n",
    "from nltk.tokenize import wordpunct_tokenize\n",
    "from nltk.stem import PorterStemmer\n",
    "from nltk.corpus import stopwords \n",
    "from sklearn.model_selection import train_test_split\n",
    "from sklearn.svm import SVC,LinearSVC\n",
    "from sklearn.linear_model import LogisticRegression\n",
    "import string\n",
    "import pandas as pd\n",
    "from gensim.models import Word2Vec"
   ]
  },
  {
   "cell_type": "code",
   "execution_count": 2,
   "metadata": {},
   "outputs": [],
   "source": [
    "path_pos = \"./data/pos/\"\n",
    "path_neg = \"./data/neg/\""
   ]
  },
  {
   "cell_type": "code",
   "execution_count": 3,
   "metadata": {},
   "outputs": [],
   "source": [
    "list_pos = os.listdir(path_pos)\n",
    "list_neg = os.listdir(path_neg)"
   ]
  },
  {
   "cell_type": "code",
   "execution_count": 4,
   "metadata": {},
   "outputs": [],
   "source": [
    "stemmer = PorterStemmer()"
   ]
  },
  {
   "cell_type": "code",
   "execution_count": 5,
   "metadata": {},
   "outputs": [],
   "source": [
    "doc_pos=[]\n",
    "doc_neg=[]"
   ]
  },
  {
   "cell_type": "code",
   "execution_count": 6,
   "metadata": {},
   "outputs": [],
   "source": [
    "stop_words = stopwords.words(\"english\")\n",
    "stop_words.extend(list(string.punctuation))\n",
    "stop_words = set(stop_words)"
   ]
  },
  {
   "cell_type": "code",
   "execution_count": 7,
   "metadata": {},
   "outputs": [],
   "source": [
    "for p in list_pos:\n",
    "    f = open(os.path.join(path_pos, p), 'r')\n",
    "    lines = f.readlines()\n",
    "    d=[]\n",
    "    for l in lines:\n",
    "        lw = wordpunct_tokenize(l)\n",
    "        for w in lw:\n",
    "            if w not in stop_words and not w.isnumeric():\n",
    "                d.append(w)\n",
    "    doc_pos.append(d)\n",
    "    "
   ]
  },
  {
   "cell_type": "code",
   "execution_count": 8,
   "metadata": {},
   "outputs": [],
   "source": [
    "for n in list_neg:\n",
    "    f = open(os.path.join(path_neg, n), 'r')\n",
    "    lines = f.readlines()\n",
    "    d=[]\n",
    "    for l in lines:\n",
    "        lw = wordpunct_tokenize(l)    \n",
    "        for w in lw:\n",
    "            if w not in stop_words and not w.isnumeric():\n",
    "                d.append(w)\n",
    "    doc_neg.append(d)"
   ]
  },
  {
   "cell_type": "code",
   "execution_count": 9,
   "metadata": {},
   "outputs": [
    {
     "data": {
      "text/plain": [
       "((1000,\n",
       "  ['showgirls',\n",
       "   'first',\n",
       "   'big',\n",
       "   'budget',\n",
       "   'big',\n",
       "   'studio',\n",
       "   'film',\n",
       "   'receive',\n",
       "   'nc',\n",
       "   'rating',\n",
       "   'release',\n",
       "   'last',\n",
       "   'year',\n",
       "   'came',\n",
       "   'time',\n",
       "   'senator',\n",
       "   'bob',\n",
       "   'dole',\n",
       "   'politicans',\n",
       "   'chastised',\n",
       "   'entertainment',\n",
       "   'industry',\n",
       "   'promoting',\n",
       "   'sex',\n",
       "   'violence',\n",
       "   'showgirls',\n",
       "   'indication',\n",
       "   'hollywood',\n",
       "   'future',\n",
       "   'folks',\n",
       "   'washington',\n",
       "   'focus',\n",
       "   'attack',\n",
       "   'dangerous',\n",
       "   'threat',\n",
       "   'american',\n",
       "   'values',\n",
       "   '--',\n",
       "   'bad',\n",
       "   'moviemaking',\n",
       "   'showgirls',\n",
       "   'relentlessly',\n",
       "   'exploitive',\n",
       "   'look',\n",
       "   'las',\n",
       "   'vegas',\n",
       "   'strip',\n",
       "   'scene',\n",
       "   'film',\n",
       "   'turns',\n",
       "   'trashy',\n",
       "   'subject',\n",
       "   'matter',\n",
       "   'director',\n",
       "   'paul',\n",
       "   'verhoeven',\n",
       "   'writer',\n",
       "   'joe',\n",
       "   'eszterhas',\n",
       "   'collaborated',\n",
       "   'another',\n",
       "   'shock',\n",
       "   'value',\n",
       "   'project',\n",
       "   'basic',\n",
       "   'instinct',\n",
       "   'follow',\n",
       "   'plight',\n",
       "   'young',\n",
       "   'woman',\n",
       "   'teen',\n",
       "   'tv',\n",
       "   'star',\n",
       "   'elizabeth',\n",
       "   'berkley',\n",
       "   'determined',\n",
       "   'make',\n",
       "   'name',\n",
       "   'topless',\n",
       "   'dancer',\n",
       "   'hackneyed',\n",
       "   'premise',\n",
       "   'begin',\n",
       "   'surprisingly',\n",
       "   'stock',\n",
       "   'characters',\n",
       "   'trucked',\n",
       "   'demanding',\n",
       "   'producer',\n",
       "   'loyal',\n",
       "   'friend',\n",
       "   'bitchy',\n",
       "   'competitor',\n",
       "   'lest',\n",
       "   'forget',\n",
       "   'scummy',\n",
       "   'club',\n",
       "   'owner',\n",
       "   'course',\n",
       "   'attempt',\n",
       "   'character',\n",
       "   'development',\n",
       "   'coherent',\n",
       "   'storyline',\n",
       "   'window',\n",
       "   'dressing',\n",
       "   'film',\n",
       "   'main',\n",
       "   'attraction',\n",
       "   '--',\n",
       "   'endless',\n",
       "   'parade',\n",
       "   'full',\n",
       "   'frontal',\n",
       "   'nudity',\n",
       "   'unfortunately',\n",
       "   'showgirls',\n",
       "   'satisfy',\n",
       "   'department',\n",
       "   'verhoeven',\n",
       "   'slam',\n",
       "   'bang',\n",
       "   'face',\n",
       "   'style',\n",
       "   'direction',\n",
       "   'proves',\n",
       "   'neither',\n",
       "   'arousing',\n",
       "   'erotic',\n",
       "   'make',\n",
       "   'matters',\n",
       "   'worse',\n",
       "   'forced',\n",
       "   'sit',\n",
       "   'movie',\n",
       "   'clothed',\n",
       "   'scenes',\n",
       "   'cover',\n",
       "   'laughable',\n",
       "   'acting',\n",
       "   'absurd',\n",
       "   'dialogue',\n",
       "   'ever',\n",
       "   'spoken',\n",
       "   'film',\n",
       "   'history',\n",
       "   'verhoeven',\n",
       "   'ezsterhas',\n",
       "   'deserve',\n",
       "   'credit',\n",
       "   'trying',\n",
       "   'break',\n",
       "   'ground',\n",
       "   'adult',\n",
       "   'entertainment',\n",
       "   'want',\n",
       "   'stay',\n",
       "   'home',\n",
       "   'watch',\n",
       "   'playboy',\n",
       "   'channel',\n",
       "   'wiser']),\n",
       " (1000,\n",
       "  ['quaid',\n",
       "   'stars',\n",
       "   'man',\n",
       "   'taken',\n",
       "   'proffesion',\n",
       "   'dragonslayer',\n",
       "   'feels',\n",
       "   'betrayed',\n",
       "   'dragon',\n",
       "   'early',\n",
       "   'movie',\n",
       "   'runs',\n",
       "   'last',\n",
       "   'dragon',\n",
       "   'existence',\n",
       "   'genuinely',\n",
       "   'amusing',\n",
       "   'battle',\n",
       "   'two',\n",
       "   'results',\n",
       "   'standoff',\n",
       "   'quaid',\n",
       "   'dragons',\n",
       "   'mouth',\n",
       "   'sword',\n",
       "   'pointed',\n",
       "   'dragons',\n",
       "   'brain',\n",
       "   'eventually',\n",
       "   'decide',\n",
       "   'call',\n",
       "   'truce',\n",
       "   'work',\n",
       "   'deal',\n",
       "   'since',\n",
       "   'last',\n",
       "   'dragon',\n",
       "   'pretend',\n",
       "   'die',\n",
       "   'quaid',\n",
       "   'able',\n",
       "   'get',\n",
       "   'paid',\n",
       "   'scam',\n",
       "   'works',\n",
       "   'first',\n",
       "   'come',\n",
       "   'town',\n",
       "   'without',\n",
       "   'money',\n",
       "   'instead',\n",
       "   'town',\n",
       "   'sacrifices',\n",
       "   'girl',\n",
       "   'dragon',\n",
       "   'course',\n",
       "   'draco',\n",
       "   'nice',\n",
       "   'droagon',\n",
       "   'eat',\n",
       "   'however',\n",
       "   'amusing',\n",
       "   'scene',\n",
       "   'draco',\n",
       "   'hitting',\n",
       "   'young',\n",
       "   'girl',\n",
       "   'course',\n",
       "   'probably',\n",
       "   'tell',\n",
       "   'plot',\n",
       "   'silly',\n",
       "   'movie',\n",
       "   'know',\n",
       "   'take',\n",
       "   'seriously',\n",
       "   'right',\n",
       "   'times',\n",
       "   'unlike',\n",
       "   'eddie',\n",
       "   'serious',\n",
       "   'time',\n",
       "   'could',\n",
       "   'probably',\n",
       "   'call',\n",
       "   'medieval',\n",
       "   'comedy',\n",
       "   'laughs',\n",
       "   'eddie',\n",
       "   'spy',\n",
       "   'hard',\n",
       "   'combined',\n",
       "   'dennis',\n",
       "   'quaid',\n",
       "   'makes',\n",
       "   'fine',\n",
       "   'hero',\n",
       "   'pete',\n",
       "   'posthlewaite',\n",
       "   'provides',\n",
       "   'ghreat',\n",
       "   'comedy',\n",
       "   'monk',\n",
       "   'journeys',\n",
       "   'dina',\n",
       "   'meyer',\n",
       "   'appealing',\n",
       "   'sacrificed',\n",
       "   'girl',\n",
       "   'lets',\n",
       "   'face',\n",
       "   'movie',\n",
       "   'really',\n",
       "   'dragon',\n",
       "   'amazing',\n",
       "   'creation',\n",
       "   'connery',\n",
       "   'voice',\n",
       "   'ilm',\n",
       "   'team',\n",
       "   'provide',\n",
       "   'us',\n",
       "   'truly',\n",
       "   'magnificent',\n",
       "   'dragon',\n",
       "   'going',\n",
       "   'see',\n",
       "   'movie',\n",
       "   'strong',\n",
       "   'hard',\n",
       "   'core',\n",
       "   'medieval',\n",
       "   'epic',\n",
       "   'going',\n",
       "   'wrong',\n",
       "   'movie',\n",
       "   'going',\n",
       "   'dragon',\n",
       "   'dissapointed',\n",
       "   'provided',\n",
       "   'plenty',\n",
       "   'laughs',\n",
       "   'smooth',\n",
       "   'boring',\n",
       "   'parts',\n",
       "   'script']))"
      ]
     },
     "execution_count": 9,
     "metadata": {},
     "output_type": "execute_result"
    }
   ],
   "source": [
    "(len(doc_neg),doc_neg[132]),(len(doc_pos),doc_pos[132])"
   ]
  },
  {
   "cell_type": "code",
   "execution_count": 10,
   "metadata": {},
   "outputs": [],
   "source": [
    "data = []\n",
    "data = doc_pos.copy()\n",
    "data.extend(doc_neg)"
   ]
  },
  {
   "cell_type": "code",
   "execution_count": 11,
   "metadata": {},
   "outputs": [
    {
     "data": {
      "text/plain": [
       "2000"
      ]
     },
     "execution_count": 11,
     "metadata": {},
     "output_type": "execute_result"
    }
   ],
   "source": [
    "len(data)"
   ]
  },
  {
   "cell_type": "code",
   "execution_count": 12,
   "metadata": {},
   "outputs": [],
   "source": [
    "modelvec  = Word2Vec(sentences=data, min_count=1,vector_size= 128,workers=3, window =3, sg = 1)"
   ]
  },
  {
   "cell_type": "code",
   "execution_count": 13,
   "metadata": {},
   "outputs": [
    {
     "data": {
      "text/plain": [
       "array([-0.04040681, -0.45635992, -0.02511956,  0.07583138,  0.24836947,\n",
       "       -0.15505262,  0.01842343, -0.06884422, -0.01576013,  0.23680255,\n",
       "        0.2041566 ,  0.02505621, -0.0932934 , -0.22280641,  0.11619628,\n",
       "        0.15019295, -0.39979127,  0.2126427 , -0.32518098,  0.36726066,\n",
       "        0.4686414 ,  0.14727013, -0.02481604, -0.44333825, -0.53436863,\n",
       "        0.00156018, -0.25232425,  0.13516892, -0.10097696, -0.13606499,\n",
       "       -0.15164618, -0.02054514,  0.16596733,  0.17308597, -0.31863084,\n",
       "        0.21475114,  0.4134907 , -0.16443086,  0.01436855, -0.01670074,\n",
       "       -0.10066611,  0.36434594, -0.24016018, -0.10304732,  0.03136501,\n",
       "        0.01119312,  0.00166204,  0.05239561, -0.0925006 ,  0.07577536,\n",
       "        0.3875662 ,  0.07049277,  0.2221499 ,  0.4351516 ,  0.114441  ,\n",
       "        0.00844166,  0.380717  , -0.3206225 , -0.44363707, -0.02412039,\n",
       "       -0.12190038, -0.09536015,  0.14970805, -0.10762133,  0.04885487,\n",
       "       -0.31094205, -0.08134401,  0.09830882, -0.15366173, -0.18598935,\n",
       "        0.04684975, -0.00133307, -0.32943365, -0.4084006 ,  0.06683783,\n",
       "       -0.1701185 , -0.24130338, -0.181538  , -0.26860318,  0.31190315,\n",
       "        0.13831483, -0.15738894, -0.29653516,  0.55085045,  0.0753271 ,\n",
       "        0.05353289,  0.5072512 , -0.19329351,  0.2922799 ,  0.41347066,\n",
       "       -0.05784304, -0.20164378,  0.0812555 , -0.17433742,  0.4612038 ,\n",
       "        0.07501101, -0.39916587, -0.24427725,  0.01180149, -0.35727948,\n",
       "       -0.49504015, -0.14718528, -0.22829294,  0.0765368 , -0.07012127,\n",
       "        0.03940629, -0.25307006,  0.13389371, -0.11050162, -0.17235178,\n",
       "        0.07520228, -0.18678696,  0.17101556,  0.1979351 , -0.2941306 ,\n",
       "       -0.1177843 , -0.30788174,  0.23804674,  0.146447  , -0.03159792,\n",
       "       -0.14953591, -0.14069048, -0.04218094,  0.18159413,  0.09284858,\n",
       "       -0.06296723, -0.26425564,  0.01498917], dtype=float32)"
      ]
     },
     "execution_count": 13,
     "metadata": {},
     "output_type": "execute_result"
    }
   ],
   "source": [
    "modelvec.wv[\"feels\"]"
   ]
  },
  {
   "attachments": {},
   "cell_type": "markdown",
   "metadata": {},
   "source": [
    "******************************************"
   ]
  },
  {
   "cell_type": "code",
   "execution_count": 14,
   "metadata": {},
   "outputs": [],
   "source": [
    "pos = []\n",
    "neg = []"
   ]
  },
  {
   "cell_type": "code",
   "execution_count": 15,
   "metadata": {},
   "outputs": [],
   "source": [
    "for d in doc_pos:\n",
    "    p = np.zeros((128,))\n",
    "    for w in d:\n",
    "        p += modelvec.wv[w]\n",
    "    pos.append(p/len(d))"
   ]
  },
  {
   "cell_type": "code",
   "execution_count": 16,
   "metadata": {},
   "outputs": [],
   "source": [
    "for d in doc_neg:\n",
    "    p = np.zeros((128,))\n",
    "    for w in d:\n",
    "        p += modelvec.wv[w]\n",
    "    neg.append(p/len(d))"
   ]
  },
  {
   "cell_type": "code",
   "execution_count": 17,
   "metadata": {},
   "outputs": [],
   "source": [
    "y_pos = np.ones((1000,))\n",
    "y_neg = np.zeros((1000,))"
   ]
  },
  {
   "cell_type": "code",
   "execution_count": 18,
   "metadata": {},
   "outputs": [],
   "source": [
    "X = np.concatenate([pos,neg],axis=0)\n",
    "y = np.concatenate([y_pos,y_neg],axis=0)\n",
    "\n",
    "X = (X - X.mean(axis=0))/(X.std(axis=0)+1e-7)"
   ]
  },
  {
   "cell_type": "code",
   "execution_count": 19,
   "metadata": {},
   "outputs": [
    {
     "data": {
      "text/plain": [
       "(2000, 128)"
      ]
     },
     "execution_count": 19,
     "metadata": {},
     "output_type": "execute_result"
    }
   ],
   "source": [
    "X.shape"
   ]
  },
  {
   "cell_type": "code",
   "execution_count": 20,
   "metadata": {},
   "outputs": [],
   "source": [
    "X_train, X_test, y_train, y_test = train_test_split( X, y, test_size=0.2, random_state=43)"
   ]
  },
  {
   "cell_type": "code",
   "execution_count": 21,
   "metadata": {},
   "outputs": [
    {
     "data": {
      "text/plain": [
       "((1600, 128), (1600,))"
      ]
     },
     "execution_count": 21,
     "metadata": {},
     "output_type": "execute_result"
    }
   ],
   "source": [
    "X_train.shape, y_train.shape    "
   ]
  },
  {
   "attachments": {},
   "cell_type": "markdown",
   "metadata": {},
   "source": [
    "**********************************************"
   ]
  },
  {
   "cell_type": "code",
   "execution_count": 22,
   "metadata": {},
   "outputs": [
    {
     "data": {
      "text/html": [
       "<style>#sk-container-id-1 {color: black;background-color: white;}#sk-container-id-1 pre{padding: 0;}#sk-container-id-1 div.sk-toggleable {background-color: white;}#sk-container-id-1 label.sk-toggleable__label {cursor: pointer;display: block;width: 100%;margin-bottom: 0;padding: 0.3em;box-sizing: border-box;text-align: center;}#sk-container-id-1 label.sk-toggleable__label-arrow:before {content: \"▸\";float: left;margin-right: 0.25em;color: #696969;}#sk-container-id-1 label.sk-toggleable__label-arrow:hover:before {color: black;}#sk-container-id-1 div.sk-estimator:hover label.sk-toggleable__label-arrow:before {color: black;}#sk-container-id-1 div.sk-toggleable__content {max-height: 0;max-width: 0;overflow: hidden;text-align: left;background-color: #f0f8ff;}#sk-container-id-1 div.sk-toggleable__content pre {margin: 0.2em;color: black;border-radius: 0.25em;background-color: #f0f8ff;}#sk-container-id-1 input.sk-toggleable__control:checked~div.sk-toggleable__content {max-height: 200px;max-width: 100%;overflow: auto;}#sk-container-id-1 input.sk-toggleable__control:checked~label.sk-toggleable__label-arrow:before {content: \"▾\";}#sk-container-id-1 div.sk-estimator input.sk-toggleable__control:checked~label.sk-toggleable__label {background-color: #d4ebff;}#sk-container-id-1 div.sk-label input.sk-toggleable__control:checked~label.sk-toggleable__label {background-color: #d4ebff;}#sk-container-id-1 input.sk-hidden--visually {border: 0;clip: rect(1px 1px 1px 1px);clip: rect(1px, 1px, 1px, 1px);height: 1px;margin: -1px;overflow: hidden;padding: 0;position: absolute;width: 1px;}#sk-container-id-1 div.sk-estimator {font-family: monospace;background-color: #f0f8ff;border: 1px dotted black;border-radius: 0.25em;box-sizing: border-box;margin-bottom: 0.5em;}#sk-container-id-1 div.sk-estimator:hover {background-color: #d4ebff;}#sk-container-id-1 div.sk-parallel-item::after {content: \"\";width: 100%;border-bottom: 1px solid gray;flex-grow: 1;}#sk-container-id-1 div.sk-label:hover label.sk-toggleable__label {background-color: #d4ebff;}#sk-container-id-1 div.sk-serial::before {content: \"\";position: absolute;border-left: 1px solid gray;box-sizing: border-box;top: 0;bottom: 0;left: 50%;z-index: 0;}#sk-container-id-1 div.sk-serial {display: flex;flex-direction: column;align-items: center;background-color: white;padding-right: 0.2em;padding-left: 0.2em;position: relative;}#sk-container-id-1 div.sk-item {position: relative;z-index: 1;}#sk-container-id-1 div.sk-parallel {display: flex;align-items: stretch;justify-content: center;background-color: white;position: relative;}#sk-container-id-1 div.sk-item::before, #sk-container-id-1 div.sk-parallel-item::before {content: \"\";position: absolute;border-left: 1px solid gray;box-sizing: border-box;top: 0;bottom: 0;left: 50%;z-index: -1;}#sk-container-id-1 div.sk-parallel-item {display: flex;flex-direction: column;z-index: 1;position: relative;background-color: white;}#sk-container-id-1 div.sk-parallel-item:first-child::after {align-self: flex-end;width: 50%;}#sk-container-id-1 div.sk-parallel-item:last-child::after {align-self: flex-start;width: 50%;}#sk-container-id-1 div.sk-parallel-item:only-child::after {width: 0;}#sk-container-id-1 div.sk-dashed-wrapped {border: 1px dashed gray;margin: 0 0.4em 0.5em 0.4em;box-sizing: border-box;padding-bottom: 0.4em;background-color: white;}#sk-container-id-1 div.sk-label label {font-family: monospace;font-weight: bold;display: inline-block;line-height: 1.2em;}#sk-container-id-1 div.sk-label-container {text-align: center;}#sk-container-id-1 div.sk-container {/* jupyter's `normalize.less` sets `[hidden] { display: none; }` but bootstrap.min.css set `[hidden] { display: none !important; }` so we also need the `!important` here to be able to override the default hidden behavior on the sphinx rendered scikit-learn.org. See: https://github.com/scikit-learn/scikit-learn/issues/21755 */display: inline-block !important;position: relative;}#sk-container-id-1 div.sk-text-repr-fallback {display: none;}</style><div id=\"sk-container-id-1\" class=\"sk-top-container\"><div class=\"sk-text-repr-fallback\"><pre>LinearSVC(C=0.01)</pre><b>In a Jupyter environment, please rerun this cell to show the HTML representation or trust the notebook. <br />On GitHub, the HTML representation is unable to render, please try loading this page with nbviewer.org.</b></div><div class=\"sk-container\" hidden><div class=\"sk-item\"><div class=\"sk-estimator sk-toggleable\"><input class=\"sk-toggleable__control sk-hidden--visually\" id=\"sk-estimator-id-1\" type=\"checkbox\" checked><label for=\"sk-estimator-id-1\" class=\"sk-toggleable__label sk-toggleable__label-arrow\">LinearSVC</label><div class=\"sk-toggleable__content\"><pre>LinearSVC(C=0.01)</pre></div></div></div></div></div>"
      ],
      "text/plain": [
       "LinearSVC(C=0.01)"
      ]
     },
     "execution_count": 22,
     "metadata": {},
     "output_type": "execute_result"
    }
   ],
   "source": [
    "clf = LinearSVC(C=0.01)\n",
    "clf.fit(X_train, y_train)"
   ]
  },
  {
   "cell_type": "code",
   "execution_count": 23,
   "metadata": {},
   "outputs": [
    {
     "data": {
      "text/plain": [
       "0.770625"
      ]
     },
     "execution_count": 23,
     "metadata": {},
     "output_type": "execute_result"
    }
   ],
   "source": [
    "y = clf.predict(X_train)\n",
    "np.sum((y == y_train))/y.shape[0]"
   ]
  },
  {
   "cell_type": "code",
   "execution_count": 24,
   "metadata": {},
   "outputs": [
    {
     "data": {
      "text/plain": [
       "0.78"
      ]
     },
     "execution_count": 24,
     "metadata": {},
     "output_type": "execute_result"
    }
   ],
   "source": [
    "y = clf.predict(X_test)\n",
    "np.sum((y == y_test))/y.shape[0]"
   ]
  },
  {
   "attachments": {},
   "cell_type": "markdown",
   "metadata": {},
   "source": [
    "***********************************"
   ]
  },
  {
   "cell_type": "code",
   "execution_count": 25,
   "metadata": {},
   "outputs": [
    {
     "name": "stderr",
     "output_type": "stream",
     "text": [
      "f:\\aaaaaaaaaaa\\Studying\\4y2t\\nlp\\Labs\\project\\env\\lib\\site-packages\\sklearn\\linear_model\\_logistic.py:458: ConvergenceWarning: lbfgs failed to converge (status=1):\n",
      "STOP: TOTAL NO. of ITERATIONS REACHED LIMIT.\n",
      "\n",
      "Increase the number of iterations (max_iter) or scale the data as shown in:\n",
      "    https://scikit-learn.org/stable/modules/preprocessing.html\n",
      "Please also refer to the documentation for alternative solver options:\n",
      "    https://scikit-learn.org/stable/modules/linear_model.html#logistic-regression\n",
      "  n_iter_i = _check_optimize_result(\n"
     ]
    },
    {
     "data": {
      "text/html": [
       "<style>#sk-container-id-2 {color: black;background-color: white;}#sk-container-id-2 pre{padding: 0;}#sk-container-id-2 div.sk-toggleable {background-color: white;}#sk-container-id-2 label.sk-toggleable__label {cursor: pointer;display: block;width: 100%;margin-bottom: 0;padding: 0.3em;box-sizing: border-box;text-align: center;}#sk-container-id-2 label.sk-toggleable__label-arrow:before {content: \"▸\";float: left;margin-right: 0.25em;color: #696969;}#sk-container-id-2 label.sk-toggleable__label-arrow:hover:before {color: black;}#sk-container-id-2 div.sk-estimator:hover label.sk-toggleable__label-arrow:before {color: black;}#sk-container-id-2 div.sk-toggleable__content {max-height: 0;max-width: 0;overflow: hidden;text-align: left;background-color: #f0f8ff;}#sk-container-id-2 div.sk-toggleable__content pre {margin: 0.2em;color: black;border-radius: 0.25em;background-color: #f0f8ff;}#sk-container-id-2 input.sk-toggleable__control:checked~div.sk-toggleable__content {max-height: 200px;max-width: 100%;overflow: auto;}#sk-container-id-2 input.sk-toggleable__control:checked~label.sk-toggleable__label-arrow:before {content: \"▾\";}#sk-container-id-2 div.sk-estimator input.sk-toggleable__control:checked~label.sk-toggleable__label {background-color: #d4ebff;}#sk-container-id-2 div.sk-label input.sk-toggleable__control:checked~label.sk-toggleable__label {background-color: #d4ebff;}#sk-container-id-2 input.sk-hidden--visually {border: 0;clip: rect(1px 1px 1px 1px);clip: rect(1px, 1px, 1px, 1px);height: 1px;margin: -1px;overflow: hidden;padding: 0;position: absolute;width: 1px;}#sk-container-id-2 div.sk-estimator {font-family: monospace;background-color: #f0f8ff;border: 1px dotted black;border-radius: 0.25em;box-sizing: border-box;margin-bottom: 0.5em;}#sk-container-id-2 div.sk-estimator:hover {background-color: #d4ebff;}#sk-container-id-2 div.sk-parallel-item::after {content: \"\";width: 100%;border-bottom: 1px solid gray;flex-grow: 1;}#sk-container-id-2 div.sk-label:hover label.sk-toggleable__label {background-color: #d4ebff;}#sk-container-id-2 div.sk-serial::before {content: \"\";position: absolute;border-left: 1px solid gray;box-sizing: border-box;top: 0;bottom: 0;left: 50%;z-index: 0;}#sk-container-id-2 div.sk-serial {display: flex;flex-direction: column;align-items: center;background-color: white;padding-right: 0.2em;padding-left: 0.2em;position: relative;}#sk-container-id-2 div.sk-item {position: relative;z-index: 1;}#sk-container-id-2 div.sk-parallel {display: flex;align-items: stretch;justify-content: center;background-color: white;position: relative;}#sk-container-id-2 div.sk-item::before, #sk-container-id-2 div.sk-parallel-item::before {content: \"\";position: absolute;border-left: 1px solid gray;box-sizing: border-box;top: 0;bottom: 0;left: 50%;z-index: -1;}#sk-container-id-2 div.sk-parallel-item {display: flex;flex-direction: column;z-index: 1;position: relative;background-color: white;}#sk-container-id-2 div.sk-parallel-item:first-child::after {align-self: flex-end;width: 50%;}#sk-container-id-2 div.sk-parallel-item:last-child::after {align-self: flex-start;width: 50%;}#sk-container-id-2 div.sk-parallel-item:only-child::after {width: 0;}#sk-container-id-2 div.sk-dashed-wrapped {border: 1px dashed gray;margin: 0 0.4em 0.5em 0.4em;box-sizing: border-box;padding-bottom: 0.4em;background-color: white;}#sk-container-id-2 div.sk-label label {font-family: monospace;font-weight: bold;display: inline-block;line-height: 1.2em;}#sk-container-id-2 div.sk-label-container {text-align: center;}#sk-container-id-2 div.sk-container {/* jupyter's `normalize.less` sets `[hidden] { display: none; }` but bootstrap.min.css set `[hidden] { display: none !important; }` so we also need the `!important` here to be able to override the default hidden behavior on the sphinx rendered scikit-learn.org. See: https://github.com/scikit-learn/scikit-learn/issues/21755 */display: inline-block !important;position: relative;}#sk-container-id-2 div.sk-text-repr-fallback {display: none;}</style><div id=\"sk-container-id-2\" class=\"sk-top-container\"><div class=\"sk-text-repr-fallback\"><pre>LogisticRegression()</pre><b>In a Jupyter environment, please rerun this cell to show the HTML representation or trust the notebook. <br />On GitHub, the HTML representation is unable to render, please try loading this page with nbviewer.org.</b></div><div class=\"sk-container\" hidden><div class=\"sk-item\"><div class=\"sk-estimator sk-toggleable\"><input class=\"sk-toggleable__control sk-hidden--visually\" id=\"sk-estimator-id-2\" type=\"checkbox\" checked><label for=\"sk-estimator-id-2\" class=\"sk-toggleable__label sk-toggleable__label-arrow\">LogisticRegression</label><div class=\"sk-toggleable__content\"><pre>LogisticRegression()</pre></div></div></div></div></div>"
      ],
      "text/plain": [
       "LogisticRegression()"
      ]
     },
     "execution_count": 25,
     "metadata": {},
     "output_type": "execute_result"
    }
   ],
   "source": [
    "clf2 = LogisticRegression()\n",
    "clf2.fit(X_train, y_train)"
   ]
  },
  {
   "cell_type": "code",
   "execution_count": 26,
   "metadata": {},
   "outputs": [
    {
     "data": {
      "text/plain": [
       "0.790625"
      ]
     },
     "execution_count": 26,
     "metadata": {},
     "output_type": "execute_result"
    }
   ],
   "source": [
    "y = clf2.predict(X_train)\n",
    "np.sum((y == y_train))/y.shape[0]"
   ]
  },
  {
   "cell_type": "code",
   "execution_count": 27,
   "metadata": {},
   "outputs": [
    {
     "data": {
      "text/plain": [
       "0.79"
      ]
     },
     "execution_count": 27,
     "metadata": {},
     "output_type": "execute_result"
    }
   ],
   "source": [
    "y = clf2.predict(X_test)\n",
    "np.sum((y == y_test))/y.shape[0]"
   ]
  },
  {
   "cell_type": "code",
   "execution_count": null,
   "metadata": {},
   "outputs": [],
   "source": []
  }
 ],
 "metadata": {
  "kernelspec": {
   "display_name": "env",
   "language": "python",
   "name": "python3"
  },
  "language_info": {
   "codemirror_mode": {
    "name": "ipython",
    "version": 3
   },
   "file_extension": ".py",
   "mimetype": "text/x-python",
   "name": "python",
   "nbconvert_exporter": "python",
   "pygments_lexer": "ipython3",
   "version": "3.10.9"
  },
  "orig_nbformat": 4
 },
 "nbformat": 4,
 "nbformat_minor": 2
}
