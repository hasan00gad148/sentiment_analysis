{
 "cells": [
  {
   "cell_type": "code",
   "execution_count": 1,
   "metadata": {},
   "outputs": [],
   "source": [
    "import os\n",
    "import numpy as np\n",
    "import nltk\n",
    "from nltk.tokenize import wordpunct_tokenize\n",
    "from nltk.stem import PorterStemmer\n",
    "from nltk.corpus import stopwords \n",
    "from sklearn.model_selection import train_test_split\n",
    "from sklearn.svm import SVC,LinearSVC\n",
    "from sklearn.linear_model import LogisticRegression\n",
    "import string\n",
    "import pandas as pd\n",
    "from gensim.models import Word2Vec\n",
    "import matplotlib.pyplot as plt\n"
   ]
  },
  {
   "cell_type": "code",
   "execution_count": 2,
   "metadata": {},
   "outputs": [],
   "source": [
    "path_pos = \"./data/pos/\"\n",
    "path_neg = \"./data/neg/\""
   ]
  },
  {
   "cell_type": "code",
   "execution_count": 3,
   "metadata": {},
   "outputs": [],
   "source": [
    "list_pos = os.listdir(path_pos)\n",
    "list_neg = os.listdir(path_neg)"
   ]
  },
  {
   "cell_type": "code",
   "execution_count": 4,
   "metadata": {},
   "outputs": [],
   "source": [
    "stemmer = PorterStemmer()"
   ]
  },
  {
   "cell_type": "code",
   "execution_count": 5,
   "metadata": {},
   "outputs": [],
   "source": [
    "doc_pos=[]\n",
    "doc_neg=[]"
   ]
  },
  {
   "cell_type": "code",
   "execution_count": 6,
   "metadata": {},
   "outputs": [],
   "source": [
    "stop_words = stopwords.words(\"english\")\n",
    "stop_words.extend(list(string.punctuation))\n",
    "stop_words = set(stop_words)"
   ]
  },
  {
   "cell_type": "code",
   "execution_count": 7,
   "metadata": {},
   "outputs": [],
   "source": [
    "for p in list_pos:\n",
    "    f = open(os.path.join(path_pos, p), 'r')\n",
    "    lines = f.readlines()\n",
    "    d=[]\n",
    "    for l in lines:\n",
    "        lw = wordpunct_tokenize(l)\n",
    "        for w in lw:\n",
    "            if w not in stop_words and not w.isnumeric():\n",
    "                d.append(w)\n",
    "    doc_pos.append(d)\n",
    "    "
   ]
  },
  {
   "cell_type": "code",
   "execution_count": 8,
   "metadata": {},
   "outputs": [],
   "source": [
    "for n in list_neg:\n",
    "    f = open(os.path.join(path_neg, n), 'r')\n",
    "    lines = f.readlines()\n",
    "    d=[]\n",
    "    for l in lines:\n",
    "        lw = wordpunct_tokenize(l)    \n",
    "        for w in lw:\n",
    "            if w not in stop_words and not w.isnumeric():\n",
    "                d.append(w)\n",
    "    doc_neg.append(d)"
   ]
  },
  {
   "cell_type": "code",
   "execution_count": 9,
   "metadata": {},
   "outputs": [
    {
     "data": {
      "text/plain": [
       "((1000,\n",
       "  ['showgirls',\n",
       "   'first',\n",
       "   'big',\n",
       "   'budget',\n",
       "   'big',\n",
       "   'studio',\n",
       "   'film',\n",
       "   'receive',\n",
       "   'nc',\n",
       "   'rating',\n",
       "   'release',\n",
       "   'last',\n",
       "   'year',\n",
       "   'came',\n",
       "   'time',\n",
       "   'senator',\n",
       "   'bob',\n",
       "   'dole',\n",
       "   'politicans',\n",
       "   'chastised',\n",
       "   'entertainment',\n",
       "   'industry',\n",
       "   'promoting',\n",
       "   'sex',\n",
       "   'violence',\n",
       "   'showgirls',\n",
       "   'indication',\n",
       "   'hollywood',\n",
       "   'future',\n",
       "   'folks',\n",
       "   'washington',\n",
       "   'focus',\n",
       "   'attack',\n",
       "   'dangerous',\n",
       "   'threat',\n",
       "   'american',\n",
       "   'values',\n",
       "   '--',\n",
       "   'bad',\n",
       "   'moviemaking',\n",
       "   'showgirls',\n",
       "   'relentlessly',\n",
       "   'exploitive',\n",
       "   'look',\n",
       "   'las',\n",
       "   'vegas',\n",
       "   'strip',\n",
       "   'scene',\n",
       "   'film',\n",
       "   'turns',\n",
       "   'trashy',\n",
       "   'subject',\n",
       "   'matter',\n",
       "   'director',\n",
       "   'paul',\n",
       "   'verhoeven',\n",
       "   'writer',\n",
       "   'joe',\n",
       "   'eszterhas',\n",
       "   'collaborated',\n",
       "   'another',\n",
       "   'shock',\n",
       "   'value',\n",
       "   'project',\n",
       "   'basic',\n",
       "   'instinct',\n",
       "   'follow',\n",
       "   'plight',\n",
       "   'young',\n",
       "   'woman',\n",
       "   'teen',\n",
       "   'tv',\n",
       "   'star',\n",
       "   'elizabeth',\n",
       "   'berkley',\n",
       "   'determined',\n",
       "   'make',\n",
       "   'name',\n",
       "   'topless',\n",
       "   'dancer',\n",
       "   'hackneyed',\n",
       "   'premise',\n",
       "   'begin',\n",
       "   'surprisingly',\n",
       "   'stock',\n",
       "   'characters',\n",
       "   'trucked',\n",
       "   'demanding',\n",
       "   'producer',\n",
       "   'loyal',\n",
       "   'friend',\n",
       "   'bitchy',\n",
       "   'competitor',\n",
       "   'lest',\n",
       "   'forget',\n",
       "   'scummy',\n",
       "   'club',\n",
       "   'owner',\n",
       "   'course',\n",
       "   'attempt',\n",
       "   'character',\n",
       "   'development',\n",
       "   'coherent',\n",
       "   'storyline',\n",
       "   'window',\n",
       "   'dressing',\n",
       "   'film',\n",
       "   'main',\n",
       "   'attraction',\n",
       "   '--',\n",
       "   'endless',\n",
       "   'parade',\n",
       "   'full',\n",
       "   'frontal',\n",
       "   'nudity',\n",
       "   'unfortunately',\n",
       "   'showgirls',\n",
       "   'satisfy',\n",
       "   'department',\n",
       "   'verhoeven',\n",
       "   'slam',\n",
       "   'bang',\n",
       "   'face',\n",
       "   'style',\n",
       "   'direction',\n",
       "   'proves',\n",
       "   'neither',\n",
       "   'arousing',\n",
       "   'erotic',\n",
       "   'make',\n",
       "   'matters',\n",
       "   'worse',\n",
       "   'forced',\n",
       "   'sit',\n",
       "   'movie',\n",
       "   'clothed',\n",
       "   'scenes',\n",
       "   'cover',\n",
       "   'laughable',\n",
       "   'acting',\n",
       "   'absurd',\n",
       "   'dialogue',\n",
       "   'ever',\n",
       "   'spoken',\n",
       "   'film',\n",
       "   'history',\n",
       "   'verhoeven',\n",
       "   'ezsterhas',\n",
       "   'deserve',\n",
       "   'credit',\n",
       "   'trying',\n",
       "   'break',\n",
       "   'ground',\n",
       "   'adult',\n",
       "   'entertainment',\n",
       "   'want',\n",
       "   'stay',\n",
       "   'home',\n",
       "   'watch',\n",
       "   'playboy',\n",
       "   'channel',\n",
       "   'wiser']),\n",
       " (1000,\n",
       "  ['quaid',\n",
       "   'stars',\n",
       "   'man',\n",
       "   'taken',\n",
       "   'proffesion',\n",
       "   'dragonslayer',\n",
       "   'feels',\n",
       "   'betrayed',\n",
       "   'dragon',\n",
       "   'early',\n",
       "   'movie',\n",
       "   'runs',\n",
       "   'last',\n",
       "   'dragon',\n",
       "   'existence',\n",
       "   'genuinely',\n",
       "   'amusing',\n",
       "   'battle',\n",
       "   'two',\n",
       "   'results',\n",
       "   'standoff',\n",
       "   'quaid',\n",
       "   'dragons',\n",
       "   'mouth',\n",
       "   'sword',\n",
       "   'pointed',\n",
       "   'dragons',\n",
       "   'brain',\n",
       "   'eventually',\n",
       "   'decide',\n",
       "   'call',\n",
       "   'truce',\n",
       "   'work',\n",
       "   'deal',\n",
       "   'since',\n",
       "   'last',\n",
       "   'dragon',\n",
       "   'pretend',\n",
       "   'die',\n",
       "   'quaid',\n",
       "   'able',\n",
       "   'get',\n",
       "   'paid',\n",
       "   'scam',\n",
       "   'works',\n",
       "   'first',\n",
       "   'come',\n",
       "   'town',\n",
       "   'without',\n",
       "   'money',\n",
       "   'instead',\n",
       "   'town',\n",
       "   'sacrifices',\n",
       "   'girl',\n",
       "   'dragon',\n",
       "   'course',\n",
       "   'draco',\n",
       "   'nice',\n",
       "   'droagon',\n",
       "   'eat',\n",
       "   'however',\n",
       "   'amusing',\n",
       "   'scene',\n",
       "   'draco',\n",
       "   'hitting',\n",
       "   'young',\n",
       "   'girl',\n",
       "   'course',\n",
       "   'probably',\n",
       "   'tell',\n",
       "   'plot',\n",
       "   'silly',\n",
       "   'movie',\n",
       "   'know',\n",
       "   'take',\n",
       "   'seriously',\n",
       "   'right',\n",
       "   'times',\n",
       "   'unlike',\n",
       "   'eddie',\n",
       "   'serious',\n",
       "   'time',\n",
       "   'could',\n",
       "   'probably',\n",
       "   'call',\n",
       "   'medieval',\n",
       "   'comedy',\n",
       "   'laughs',\n",
       "   'eddie',\n",
       "   'spy',\n",
       "   'hard',\n",
       "   'combined',\n",
       "   'dennis',\n",
       "   'quaid',\n",
       "   'makes',\n",
       "   'fine',\n",
       "   'hero',\n",
       "   'pete',\n",
       "   'posthlewaite',\n",
       "   'provides',\n",
       "   'ghreat',\n",
       "   'comedy',\n",
       "   'monk',\n",
       "   'journeys',\n",
       "   'dina',\n",
       "   'meyer',\n",
       "   'appealing',\n",
       "   'sacrificed',\n",
       "   'girl',\n",
       "   'lets',\n",
       "   'face',\n",
       "   'movie',\n",
       "   'really',\n",
       "   'dragon',\n",
       "   'amazing',\n",
       "   'creation',\n",
       "   'connery',\n",
       "   'voice',\n",
       "   'ilm',\n",
       "   'team',\n",
       "   'provide',\n",
       "   'us',\n",
       "   'truly',\n",
       "   'magnificent',\n",
       "   'dragon',\n",
       "   'going',\n",
       "   'see',\n",
       "   'movie',\n",
       "   'strong',\n",
       "   'hard',\n",
       "   'core',\n",
       "   'medieval',\n",
       "   'epic',\n",
       "   'going',\n",
       "   'wrong',\n",
       "   'movie',\n",
       "   'going',\n",
       "   'dragon',\n",
       "   'dissapointed',\n",
       "   'provided',\n",
       "   'plenty',\n",
       "   'laughs',\n",
       "   'smooth',\n",
       "   'boring',\n",
       "   'parts',\n",
       "   'script']))"
      ]
     },
     "execution_count": 9,
     "metadata": {},
     "output_type": "execute_result"
    }
   ],
   "source": [
    "(len(doc_neg),doc_neg[132]),(len(doc_pos),doc_pos[132])"
   ]
  },
  {
   "cell_type": "code",
   "execution_count": 10,
   "metadata": {},
   "outputs": [],
   "source": [
    "data = []\n",
    "data = doc_pos.copy()\n",
    "data.extend(doc_neg)"
   ]
  },
  {
   "cell_type": "code",
   "execution_count": 11,
   "metadata": {},
   "outputs": [
    {
     "data": {
      "text/plain": [
       "2000"
      ]
     },
     "execution_count": 11,
     "metadata": {},
     "output_type": "execute_result"
    }
   ],
   "source": [
    "len(data)"
   ]
  },
  {
   "cell_type": "code",
   "execution_count": 12,
   "metadata": {},
   "outputs": [],
   "source": [
    "modelvec  = Word2Vec(sentences=data, min_count=1,vector_size= 200,workers=3, window =3, sg = 1)"
   ]
  },
  {
   "cell_type": "code",
   "execution_count": 13,
   "metadata": {},
   "outputs": [
    {
     "data": {
      "text/plain": [
       "array([-7.65551180e-02, -6.35753497e-02, -6.20910414e-02,  9.83893201e-02,\n",
       "        3.48679364e-01, -1.81306720e-01, -2.53075343e-02,  4.64614689e-01,\n",
       "        8.78508091e-02, -1.44053134e-03, -1.11007147e-01, -7.03963041e-02,\n",
       "        6.28345013e-02,  1.28215984e-01, -1.83649227e-01, -4.47295047e-02,\n",
       "       -2.35413201e-02,  5.23432530e-02,  2.43938506e-01, -3.15536141e-01,\n",
       "        2.42573097e-01, -1.95144951e-01,  8.86515379e-02, -1.40724510e-01,\n",
       "        8.28676447e-02, -2.12673128e-01, -9.44242701e-02, -1.45547716e-02,\n",
       "       -3.74727339e-01, -4.31014821e-02,  2.16154382e-01, -9.03692991e-02,\n",
       "        2.81411737e-01, -1.58144996e-01,  1.83501616e-02, -4.95756939e-02,\n",
       "        2.53103554e-01, -2.97240093e-02,  4.16301712e-02, -1.58292517e-01,\n",
       "       -6.57064617e-02, -1.43567637e-01, -6.85982332e-02,  1.11405253e-01,\n",
       "        2.22826689e-01, -3.40351999e-01, -3.19026142e-01, -2.20550328e-01,\n",
       "        1.79712310e-01, -9.82572325e-03, -2.24100262e-01, -2.31795520e-01,\n",
       "       -2.15540364e-01, -2.31603727e-01,  2.58315988e-02,  4.84541012e-03,\n",
       "       -1.69384882e-01, -2.42355779e-01, -1.75306927e-02, -2.02587042e-02,\n",
       "       -3.28041315e-02, -1.81106448e-01,  6.21063598e-02,  9.32013392e-02,\n",
       "       -3.62908602e-01,  1.35037273e-01, -9.21666250e-02,  5.00332892e-01,\n",
       "       -2.50513077e-01,  2.79099315e-01, -1.38295433e-02,  1.22015975e-01,\n",
       "        3.07103634e-01, -4.58931737e-02,  1.12934306e-01,  8.93144608e-02,\n",
       "        3.48387539e-01, -2.20282540e-01, -3.87907803e-01,  2.86987215e-01,\n",
       "       -2.07123145e-01, -3.64708155e-02, -2.60403454e-01,  5.56708992e-01,\n",
       "       -1.59259349e-01, -1.26069924e-02,  1.26129210e-01,  1.74087405e-01,\n",
       "       -5.15045635e-02, -9.57940519e-02, -2.62284242e-02,  1.63278550e-01,\n",
       "        1.00185744e-01,  1.75734371e-01,  2.63432443e-01,  1.60177499e-01,\n",
       "        4.63819839e-02, -6.33111000e-02,  1.50216306e-02,  8.56870860e-02,\n",
       "       -1.60275415e-01,  3.73952806e-01,  1.75473659e-04, -1.23657294e-01,\n",
       "       -8.44018757e-02, -3.90520394e-01, -1.85813364e-02,  7.82642812e-02,\n",
       "       -6.38607144e-02, -1.73812568e-01, -7.26155266e-02, -2.00244710e-01,\n",
       "       -1.02898538e-01, -1.52887374e-01,  1.77553713e-01, -1.12529114e-01,\n",
       "        2.25183204e-01, -1.51810825e-01, -6.45359047e-03, -4.41932492e-02,\n",
       "       -3.75613309e-02,  2.53360689e-01,  1.10843154e-02, -2.71992177e-01,\n",
       "       -1.25028417e-01,  7.88685381e-02,  3.58536653e-02, -1.76554814e-01,\n",
       "        2.30427146e-01, -2.90645987e-01,  9.71873254e-02,  2.26854850e-02,\n",
       "       -8.59453455e-02, -5.43301180e-02,  2.94053201e-02, -3.98345478e-02,\n",
       "       -1.78295434e-01, -2.76993662e-01, -1.79426491e-01, -3.65028888e-01,\n",
       "        1.47553876e-01, -1.36001557e-01, -1.36285782e-01,  1.17626078e-01,\n",
       "       -1.33690000e-01, -1.49084538e-01, -1.64362386e-01,  1.04780272e-01,\n",
       "        9.73419473e-03,  1.65523589e-01, -1.06966496e-02, -8.59142542e-02,\n",
       "       -2.56378710e-01,  2.10706219e-01, -3.58125240e-01,  3.74088399e-02,\n",
       "        1.42050192e-01,  2.46623248e-01, -2.60448991e-03,  4.90214266e-02,\n",
       "        2.01027647e-01, -1.98021621e-01, -4.99087274e-02,  1.64032415e-01,\n",
       "        7.09485337e-02,  4.33751822e-01,  1.25000924e-01, -2.29865715e-01,\n",
       "       -7.78387710e-02,  1.18093498e-01, -4.01888974e-02,  1.51184931e-01,\n",
       "        6.46107793e-02, -2.27505967e-01,  2.02227443e-01, -1.27841696e-01,\n",
       "       -1.69646397e-01,  1.87036052e-01,  5.00865355e-02,  7.94076547e-02,\n",
       "       -8.06931555e-02, -3.59752700e-02,  7.52943382e-03, -2.08111078e-01,\n",
       "        2.92594284e-01,  4.81193960e-02, -1.16969414e-01,  1.85402036e-01,\n",
       "        3.16013783e-01,  1.28185347e-01,  1.93667084e-01,  3.79105918e-02,\n",
       "       -1.13336742e-01, -2.35762239e-01,  1.85758486e-01, -7.02778548e-02,\n",
       "        1.82798430e-01, -1.19064212e-01, -1.11712307e-01, -8.60677063e-02],\n",
       "      dtype=float32)"
      ]
     },
     "execution_count": 13,
     "metadata": {},
     "output_type": "execute_result"
    }
   ],
   "source": [
    "modelvec.wv[\"feels\"]"
   ]
  },
  {
   "attachments": {},
   "cell_type": "markdown",
   "metadata": {},
   "source": [
    "******************************************"
   ]
  },
  {
   "cell_type": "code",
   "execution_count": 14,
   "metadata": {},
   "outputs": [],
   "source": [
    "pos = []\n",
    "neg = []"
   ]
  },
  {
   "cell_type": "code",
   "execution_count": 15,
   "metadata": {},
   "outputs": [],
   "source": [
    "for d in doc_pos:\n",
    "    p = np.zeros((200,))\n",
    "    for w in d:\n",
    "        p += modelvec.wv[w]\n",
    "    pos.append(p/len(d))"
   ]
  },
  {
   "cell_type": "code",
   "execution_count": 16,
   "metadata": {},
   "outputs": [],
   "source": [
    "for d in doc_neg:\n",
    "    p = np.zeros((200,))\n",
    "    for w in d:\n",
    "        p += modelvec.wv[w]\n",
    "    neg.append(p/len(d))"
   ]
  },
  {
   "cell_type": "code",
   "execution_count": 17,
   "metadata": {},
   "outputs": [],
   "source": [
    "y_pos = np.ones((1000,))\n",
    "y_neg = np.zeros((1000,))"
   ]
  },
  {
   "cell_type": "code",
   "execution_count": 18,
   "metadata": {},
   "outputs": [],
   "source": [
    "X = np.concatenate([pos,neg],axis=0)\n",
    "y = np.concatenate([y_pos,y_neg],axis=0)\n",
    "\n",
    "X = (X - X.mean(axis=0))/(X.std(axis=0)+1e-7)"
   ]
  },
  {
   "cell_type": "code",
   "execution_count": 19,
   "metadata": {},
   "outputs": [
    {
     "data": {
      "text/plain": [
       "(2000, 200)"
      ]
     },
     "execution_count": 19,
     "metadata": {},
     "output_type": "execute_result"
    }
   ],
   "source": [
    "X.shape"
   ]
  },
  {
   "cell_type": "code",
   "execution_count": 20,
   "metadata": {},
   "outputs": [],
   "source": [
    "X_train, X_test, y_train, y_test = train_test_split( X, y, test_size=0.2, random_state=43)"
   ]
  },
  {
   "cell_type": "code",
   "execution_count": 21,
   "metadata": {},
   "outputs": [
    {
     "data": {
      "text/plain": [
       "((1600, 200), (1600,))"
      ]
     },
     "execution_count": 21,
     "metadata": {},
     "output_type": "execute_result"
    }
   ],
   "source": [
    "X_train.shape, y_train.shape    "
   ]
  },
  {
   "attachments": {},
   "cell_type": "markdown",
   "metadata": {},
   "source": [
    "**********************************************"
   ]
  },
  {
   "cell_type": "code",
   "execution_count": 22,
   "metadata": {},
   "outputs": [
    {
     "data": {
      "text/html": [
       "<style>#sk-container-id-1 {color: black;background-color: white;}#sk-container-id-1 pre{padding: 0;}#sk-container-id-1 div.sk-toggleable {background-color: white;}#sk-container-id-1 label.sk-toggleable__label {cursor: pointer;display: block;width: 100%;margin-bottom: 0;padding: 0.3em;box-sizing: border-box;text-align: center;}#sk-container-id-1 label.sk-toggleable__label-arrow:before {content: \"▸\";float: left;margin-right: 0.25em;color: #696969;}#sk-container-id-1 label.sk-toggleable__label-arrow:hover:before {color: black;}#sk-container-id-1 div.sk-estimator:hover label.sk-toggleable__label-arrow:before {color: black;}#sk-container-id-1 div.sk-toggleable__content {max-height: 0;max-width: 0;overflow: hidden;text-align: left;background-color: #f0f8ff;}#sk-container-id-1 div.sk-toggleable__content pre {margin: 0.2em;color: black;border-radius: 0.25em;background-color: #f0f8ff;}#sk-container-id-1 input.sk-toggleable__control:checked~div.sk-toggleable__content {max-height: 200px;max-width: 100%;overflow: auto;}#sk-container-id-1 input.sk-toggleable__control:checked~label.sk-toggleable__label-arrow:before {content: \"▾\";}#sk-container-id-1 div.sk-estimator input.sk-toggleable__control:checked~label.sk-toggleable__label {background-color: #d4ebff;}#sk-container-id-1 div.sk-label input.sk-toggleable__control:checked~label.sk-toggleable__label {background-color: #d4ebff;}#sk-container-id-1 input.sk-hidden--visually {border: 0;clip: rect(1px 1px 1px 1px);clip: rect(1px, 1px, 1px, 1px);height: 1px;margin: -1px;overflow: hidden;padding: 0;position: absolute;width: 1px;}#sk-container-id-1 div.sk-estimator {font-family: monospace;background-color: #f0f8ff;border: 1px dotted black;border-radius: 0.25em;box-sizing: border-box;margin-bottom: 0.5em;}#sk-container-id-1 div.sk-estimator:hover {background-color: #d4ebff;}#sk-container-id-1 div.sk-parallel-item::after {content: \"\";width: 100%;border-bottom: 1px solid gray;flex-grow: 1;}#sk-container-id-1 div.sk-label:hover label.sk-toggleable__label {background-color: #d4ebff;}#sk-container-id-1 div.sk-serial::before {content: \"\";position: absolute;border-left: 1px solid gray;box-sizing: border-box;top: 0;bottom: 0;left: 50%;z-index: 0;}#sk-container-id-1 div.sk-serial {display: flex;flex-direction: column;align-items: center;background-color: white;padding-right: 0.2em;padding-left: 0.2em;position: relative;}#sk-container-id-1 div.sk-item {position: relative;z-index: 1;}#sk-container-id-1 div.sk-parallel {display: flex;align-items: stretch;justify-content: center;background-color: white;position: relative;}#sk-container-id-1 div.sk-item::before, #sk-container-id-1 div.sk-parallel-item::before {content: \"\";position: absolute;border-left: 1px solid gray;box-sizing: border-box;top: 0;bottom: 0;left: 50%;z-index: -1;}#sk-container-id-1 div.sk-parallel-item {display: flex;flex-direction: column;z-index: 1;position: relative;background-color: white;}#sk-container-id-1 div.sk-parallel-item:first-child::after {align-self: flex-end;width: 50%;}#sk-container-id-1 div.sk-parallel-item:last-child::after {align-self: flex-start;width: 50%;}#sk-container-id-1 div.sk-parallel-item:only-child::after {width: 0;}#sk-container-id-1 div.sk-dashed-wrapped {border: 1px dashed gray;margin: 0 0.4em 0.5em 0.4em;box-sizing: border-box;padding-bottom: 0.4em;background-color: white;}#sk-container-id-1 div.sk-label label {font-family: monospace;font-weight: bold;display: inline-block;line-height: 1.2em;}#sk-container-id-1 div.sk-label-container {text-align: center;}#sk-container-id-1 div.sk-container {/* jupyter's `normalize.less` sets `[hidden] { display: none; }` but bootstrap.min.css set `[hidden] { display: none !important; }` so we also need the `!important` here to be able to override the default hidden behavior on the sphinx rendered scikit-learn.org. See: https://github.com/scikit-learn/scikit-learn/issues/21755 */display: inline-block !important;position: relative;}#sk-container-id-1 div.sk-text-repr-fallback {display: none;}</style><div id=\"sk-container-id-1\" class=\"sk-top-container\"><div class=\"sk-text-repr-fallback\"><pre>LinearSVC(C=0.01)</pre><b>In a Jupyter environment, please rerun this cell to show the HTML representation or trust the notebook. <br />On GitHub, the HTML representation is unable to render, please try loading this page with nbviewer.org.</b></div><div class=\"sk-container\" hidden><div class=\"sk-item\"><div class=\"sk-estimator sk-toggleable\"><input class=\"sk-toggleable__control sk-hidden--visually\" id=\"sk-estimator-id-1\" type=\"checkbox\" checked><label for=\"sk-estimator-id-1\" class=\"sk-toggleable__label sk-toggleable__label-arrow\">LinearSVC</label><div class=\"sk-toggleable__content\"><pre>LinearSVC(C=0.01)</pre></div></div></div></div></div>"
      ],
      "text/plain": [
       "LinearSVC(C=0.01)"
      ]
     },
     "execution_count": 22,
     "metadata": {},
     "output_type": "execute_result"
    }
   ],
   "source": [
    "clf = LinearSVC(C=0.01)\n",
    "clf.fit(X_train, y_train)"
   ]
  },
  {
   "cell_type": "code",
   "execution_count": 23,
   "metadata": {},
   "outputs": [
    {
     "data": {
      "text/plain": [
       "0.788125"
      ]
     },
     "execution_count": 23,
     "metadata": {},
     "output_type": "execute_result"
    }
   ],
   "source": [
    "y = clf.predict(X_train)\n",
    "np.sum((y == y_train))/y.shape[0]"
   ]
  },
  {
   "cell_type": "code",
   "execution_count": 24,
   "metadata": {},
   "outputs": [
    {
     "data": {
      "text/plain": [
       "0.7875"
      ]
     },
     "execution_count": 24,
     "metadata": {},
     "output_type": "execute_result"
    }
   ],
   "source": [
    "y = clf.predict(X_test)\n",
    "np.sum((y == y_test))/y.shape[0]"
   ]
  },
  {
   "attachments": {},
   "cell_type": "markdown",
   "metadata": {},
   "source": [
    "***********************************"
   ]
  },
  {
   "cell_type": "code",
   "execution_count": 25,
   "metadata": {},
   "outputs": [
    {
     "name": "stderr",
     "output_type": "stream",
     "text": [
      "f:\\aaaaaaaaaaa\\Studying\\4y2t\\nlp\\Labs\\project\\env\\lib\\site-packages\\sklearn\\linear_model\\_logistic.py:458: ConvergenceWarning: lbfgs failed to converge (status=1):\n",
      "STOP: TOTAL NO. of ITERATIONS REACHED LIMIT.\n",
      "\n",
      "Increase the number of iterations (max_iter) or scale the data as shown in:\n",
      "    https://scikit-learn.org/stable/modules/preprocessing.html\n",
      "Please also refer to the documentation for alternative solver options:\n",
      "    https://scikit-learn.org/stable/modules/linear_model.html#logistic-regression\n",
      "  n_iter_i = _check_optimize_result(\n"
     ]
    },
    {
     "data": {
      "text/html": [
       "<style>#sk-container-id-2 {color: black;background-color: white;}#sk-container-id-2 pre{padding: 0;}#sk-container-id-2 div.sk-toggleable {background-color: white;}#sk-container-id-2 label.sk-toggleable__label {cursor: pointer;display: block;width: 100%;margin-bottom: 0;padding: 0.3em;box-sizing: border-box;text-align: center;}#sk-container-id-2 label.sk-toggleable__label-arrow:before {content: \"▸\";float: left;margin-right: 0.25em;color: #696969;}#sk-container-id-2 label.sk-toggleable__label-arrow:hover:before {color: black;}#sk-container-id-2 div.sk-estimator:hover label.sk-toggleable__label-arrow:before {color: black;}#sk-container-id-2 div.sk-toggleable__content {max-height: 0;max-width: 0;overflow: hidden;text-align: left;background-color: #f0f8ff;}#sk-container-id-2 div.sk-toggleable__content pre {margin: 0.2em;color: black;border-radius: 0.25em;background-color: #f0f8ff;}#sk-container-id-2 input.sk-toggleable__control:checked~div.sk-toggleable__content {max-height: 200px;max-width: 100%;overflow: auto;}#sk-container-id-2 input.sk-toggleable__control:checked~label.sk-toggleable__label-arrow:before {content: \"▾\";}#sk-container-id-2 div.sk-estimator input.sk-toggleable__control:checked~label.sk-toggleable__label {background-color: #d4ebff;}#sk-container-id-2 div.sk-label input.sk-toggleable__control:checked~label.sk-toggleable__label {background-color: #d4ebff;}#sk-container-id-2 input.sk-hidden--visually {border: 0;clip: rect(1px 1px 1px 1px);clip: rect(1px, 1px, 1px, 1px);height: 1px;margin: -1px;overflow: hidden;padding: 0;position: absolute;width: 1px;}#sk-container-id-2 div.sk-estimator {font-family: monospace;background-color: #f0f8ff;border: 1px dotted black;border-radius: 0.25em;box-sizing: border-box;margin-bottom: 0.5em;}#sk-container-id-2 div.sk-estimator:hover {background-color: #d4ebff;}#sk-container-id-2 div.sk-parallel-item::after {content: \"\";width: 100%;border-bottom: 1px solid gray;flex-grow: 1;}#sk-container-id-2 div.sk-label:hover label.sk-toggleable__label {background-color: #d4ebff;}#sk-container-id-2 div.sk-serial::before {content: \"\";position: absolute;border-left: 1px solid gray;box-sizing: border-box;top: 0;bottom: 0;left: 50%;z-index: 0;}#sk-container-id-2 div.sk-serial {display: flex;flex-direction: column;align-items: center;background-color: white;padding-right: 0.2em;padding-left: 0.2em;position: relative;}#sk-container-id-2 div.sk-item {position: relative;z-index: 1;}#sk-container-id-2 div.sk-parallel {display: flex;align-items: stretch;justify-content: center;background-color: white;position: relative;}#sk-container-id-2 div.sk-item::before, #sk-container-id-2 div.sk-parallel-item::before {content: \"\";position: absolute;border-left: 1px solid gray;box-sizing: border-box;top: 0;bottom: 0;left: 50%;z-index: -1;}#sk-container-id-2 div.sk-parallel-item {display: flex;flex-direction: column;z-index: 1;position: relative;background-color: white;}#sk-container-id-2 div.sk-parallel-item:first-child::after {align-self: flex-end;width: 50%;}#sk-container-id-2 div.sk-parallel-item:last-child::after {align-self: flex-start;width: 50%;}#sk-container-id-2 div.sk-parallel-item:only-child::after {width: 0;}#sk-container-id-2 div.sk-dashed-wrapped {border: 1px dashed gray;margin: 0 0.4em 0.5em 0.4em;box-sizing: border-box;padding-bottom: 0.4em;background-color: white;}#sk-container-id-2 div.sk-label label {font-family: monospace;font-weight: bold;display: inline-block;line-height: 1.2em;}#sk-container-id-2 div.sk-label-container {text-align: center;}#sk-container-id-2 div.sk-container {/* jupyter's `normalize.less` sets `[hidden] { display: none; }` but bootstrap.min.css set `[hidden] { display: none !important; }` so we also need the `!important` here to be able to override the default hidden behavior on the sphinx rendered scikit-learn.org. See: https://github.com/scikit-learn/scikit-learn/issues/21755 */display: inline-block !important;position: relative;}#sk-container-id-2 div.sk-text-repr-fallback {display: none;}</style><div id=\"sk-container-id-2\" class=\"sk-top-container\"><div class=\"sk-text-repr-fallback\"><pre>LogisticRegression()</pre><b>In a Jupyter environment, please rerun this cell to show the HTML representation or trust the notebook. <br />On GitHub, the HTML representation is unable to render, please try loading this page with nbviewer.org.</b></div><div class=\"sk-container\" hidden><div class=\"sk-item\"><div class=\"sk-estimator sk-toggleable\"><input class=\"sk-toggleable__control sk-hidden--visually\" id=\"sk-estimator-id-2\" type=\"checkbox\" checked><label for=\"sk-estimator-id-2\" class=\"sk-toggleable__label sk-toggleable__label-arrow\">LogisticRegression</label><div class=\"sk-toggleable__content\"><pre>LogisticRegression()</pre></div></div></div></div></div>"
      ],
      "text/plain": [
       "LogisticRegression()"
      ]
     },
     "execution_count": 25,
     "metadata": {},
     "output_type": "execute_result"
    }
   ],
   "source": [
    "clf2 = LogisticRegression()\n",
    "clf2.fit(X_train, y_train)"
   ]
  },
  {
   "cell_type": "code",
   "execution_count": 26,
   "metadata": {},
   "outputs": [
    {
     "data": {
      "text/plain": [
       "0.811875"
      ]
     },
     "execution_count": 26,
     "metadata": {},
     "output_type": "execute_result"
    }
   ],
   "source": [
    "y = clf2.predict(X_train)\n",
    "np.sum((y == y_train))/y.shape[0]"
   ]
  },
  {
   "cell_type": "code",
   "execution_count": 27,
   "metadata": {},
   "outputs": [
    {
     "data": {
      "text/plain": [
       "0.79"
      ]
     },
     "execution_count": 27,
     "metadata": {},
     "output_type": "execute_result"
    }
   ],
   "source": [
    "y = clf2.predict(X_test)\n",
    "np.sum((y == y_test))/y.shape[0]"
   ]
  },
  {
   "cell_type": "code",
   "execution_count": 28,
   "metadata": {},
   "outputs": [],
   "source": [
    "# performing preprocessing part\n",
    "from sklearn.preprocessing import StandardScaler\n",
    "sc = StandardScaler()\n",
    "\n",
    "X_train = sc.fit_transform(X_train)\n",
    "X_test = sc.transform(X_test)\n"
   ]
  },
  {
   "cell_type": "code",
   "execution_count": 29,
   "metadata": {},
   "outputs": [],
   "source": [
    "# Applying PCA function on training\n",
    "# and testing set of X component\n",
    "from sklearn.decomposition import PCA\n",
    "\n",
    "pca = PCA(n_components = 2)\n",
    "\n",
    "X_train = pca.fit_transform(X_train)\n",
    "X_test = pca.transform(X_test)\n",
    "\n",
    "explained_variance = pca.explained_variance_ratio_\n"
   ]
  },
  {
   "cell_type": "code",
   "execution_count": 30,
   "metadata": {},
   "outputs": [
    {
     "data": {
      "text/plain": [
       "0.4073148985478023"
      ]
     },
     "execution_count": 30,
     "metadata": {},
     "output_type": "execute_result"
    }
   ],
   "source": [
    "sum(explained_variance)"
   ]
  },
  {
   "cell_type": "code",
   "execution_count": 31,
   "metadata": {},
   "outputs": [
    {
     "data": {
      "text/html": [
       "<style>#sk-container-id-3 {color: black;background-color: white;}#sk-container-id-3 pre{padding: 0;}#sk-container-id-3 div.sk-toggleable {background-color: white;}#sk-container-id-3 label.sk-toggleable__label {cursor: pointer;display: block;width: 100%;margin-bottom: 0;padding: 0.3em;box-sizing: border-box;text-align: center;}#sk-container-id-3 label.sk-toggleable__label-arrow:before {content: \"▸\";float: left;margin-right: 0.25em;color: #696969;}#sk-container-id-3 label.sk-toggleable__label-arrow:hover:before {color: black;}#sk-container-id-3 div.sk-estimator:hover label.sk-toggleable__label-arrow:before {color: black;}#sk-container-id-3 div.sk-toggleable__content {max-height: 0;max-width: 0;overflow: hidden;text-align: left;background-color: #f0f8ff;}#sk-container-id-3 div.sk-toggleable__content pre {margin: 0.2em;color: black;border-radius: 0.25em;background-color: #f0f8ff;}#sk-container-id-3 input.sk-toggleable__control:checked~div.sk-toggleable__content {max-height: 200px;max-width: 100%;overflow: auto;}#sk-container-id-3 input.sk-toggleable__control:checked~label.sk-toggleable__label-arrow:before {content: \"▾\";}#sk-container-id-3 div.sk-estimator input.sk-toggleable__control:checked~label.sk-toggleable__label {background-color: #d4ebff;}#sk-container-id-3 div.sk-label input.sk-toggleable__control:checked~label.sk-toggleable__label {background-color: #d4ebff;}#sk-container-id-3 input.sk-hidden--visually {border: 0;clip: rect(1px 1px 1px 1px);clip: rect(1px, 1px, 1px, 1px);height: 1px;margin: -1px;overflow: hidden;padding: 0;position: absolute;width: 1px;}#sk-container-id-3 div.sk-estimator {font-family: monospace;background-color: #f0f8ff;border: 1px dotted black;border-radius: 0.25em;box-sizing: border-box;margin-bottom: 0.5em;}#sk-container-id-3 div.sk-estimator:hover {background-color: #d4ebff;}#sk-container-id-3 div.sk-parallel-item::after {content: \"\";width: 100%;border-bottom: 1px solid gray;flex-grow: 1;}#sk-container-id-3 div.sk-label:hover label.sk-toggleable__label {background-color: #d4ebff;}#sk-container-id-3 div.sk-serial::before {content: \"\";position: absolute;border-left: 1px solid gray;box-sizing: border-box;top: 0;bottom: 0;left: 50%;z-index: 0;}#sk-container-id-3 div.sk-serial {display: flex;flex-direction: column;align-items: center;background-color: white;padding-right: 0.2em;padding-left: 0.2em;position: relative;}#sk-container-id-3 div.sk-item {position: relative;z-index: 1;}#sk-container-id-3 div.sk-parallel {display: flex;align-items: stretch;justify-content: center;background-color: white;position: relative;}#sk-container-id-3 div.sk-item::before, #sk-container-id-3 div.sk-parallel-item::before {content: \"\";position: absolute;border-left: 1px solid gray;box-sizing: border-box;top: 0;bottom: 0;left: 50%;z-index: -1;}#sk-container-id-3 div.sk-parallel-item {display: flex;flex-direction: column;z-index: 1;position: relative;background-color: white;}#sk-container-id-3 div.sk-parallel-item:first-child::after {align-self: flex-end;width: 50%;}#sk-container-id-3 div.sk-parallel-item:last-child::after {align-self: flex-start;width: 50%;}#sk-container-id-3 div.sk-parallel-item:only-child::after {width: 0;}#sk-container-id-3 div.sk-dashed-wrapped {border: 1px dashed gray;margin: 0 0.4em 0.5em 0.4em;box-sizing: border-box;padding-bottom: 0.4em;background-color: white;}#sk-container-id-3 div.sk-label label {font-family: monospace;font-weight: bold;display: inline-block;line-height: 1.2em;}#sk-container-id-3 div.sk-label-container {text-align: center;}#sk-container-id-3 div.sk-container {/* jupyter's `normalize.less` sets `[hidden] { display: none; }` but bootstrap.min.css set `[hidden] { display: none !important; }` so we also need the `!important` here to be able to override the default hidden behavior on the sphinx rendered scikit-learn.org. See: https://github.com/scikit-learn/scikit-learn/issues/21755 */display: inline-block !important;position: relative;}#sk-container-id-3 div.sk-text-repr-fallback {display: none;}</style><div id=\"sk-container-id-3\" class=\"sk-top-container\"><div class=\"sk-text-repr-fallback\"><pre>LogisticRegression()</pre><b>In a Jupyter environment, please rerun this cell to show the HTML representation or trust the notebook. <br />On GitHub, the HTML representation is unable to render, please try loading this page with nbviewer.org.</b></div><div class=\"sk-container\" hidden><div class=\"sk-item\"><div class=\"sk-estimator sk-toggleable\"><input class=\"sk-toggleable__control sk-hidden--visually\" id=\"sk-estimator-id-3\" type=\"checkbox\" checked><label for=\"sk-estimator-id-3\" class=\"sk-toggleable__label sk-toggleable__label-arrow\">LogisticRegression</label><div class=\"sk-toggleable__content\"><pre>LogisticRegression()</pre></div></div></div></div></div>"
      ],
      "text/plain": [
       "LogisticRegression()"
      ]
     },
     "execution_count": 31,
     "metadata": {},
     "output_type": "execute_result"
    }
   ],
   "source": [
    "clf2_ = LogisticRegression()\n",
    "clf2_.fit(X_train, y_train)"
   ]
  },
  {
   "cell_type": "code",
   "execution_count": 32,
   "metadata": {},
   "outputs": [
    {
     "data": {
      "text/plain": [
       "0.54"
      ]
     },
     "execution_count": 32,
     "metadata": {},
     "output_type": "execute_result"
    }
   ],
   "source": [
    "y = clf2_.predict(X_test)\n",
    "np.sum((y == y_test))/y.shape[0]"
   ]
  },
  {
   "cell_type": "code",
   "execution_count": 33,
   "metadata": {},
   "outputs": [
    {
     "name": "stderr",
     "output_type": "stream",
     "text": [
      "No artists with labels found to put in legend.  Note that artists whose label start with an underscore are ignored when legend() is called with no argument.\n"
     ]
    },
    {
     "data": {
      "image/png": "[encoded data removed]",
      "text/plain": [
       "<Figure size 640x480 with 1 Axes>"
      ]
     },
     "metadata": {},
     "output_type": "display_data"
    }
   ],
   "source": [
    "# Visualising the Test set results through scatter plot\n",
    "from matplotlib.colors import ListedColormap\n",
    "\n",
    "X_set, y_set = X_test, y\n",
    "\n",
    "X1, X2 = np.meshgrid(np.arange(start = X_set[:, 0].min() - 1,\n",
    "\t\t\t\t\tstop = X_set[:, 0].max() + 1, step = 0.01),\n",
    "\t\t\t\t\tnp.arange(start = X_set[:, 1].min() - 1,\n",
    "\t\t\t\t\tstop = X_set[:, 1].max() + 1, step = 0.01))\n",
    "\n",
    "# plt.contourf(X1, X2, clf2.predict(np.array([X1.ravel(),\n",
    "# \t\t\tX2.ravel()]).T).reshape(X1.shape), alpha = 0.75,\n",
    "# \t\t\tcmap = ListedColormap(('yellow', 'white', 'aquamarine')))\n",
    "\n",
    "plt.xlim(X1.min(), X1.max())\n",
    "plt.ylim(X2.min(), X2.max())\n",
    "\n",
    "# for i, j in enumerate(np.unique(y_set)):, label = j\n",
    "plt.scatter(X_set[:, 0], X_set[:, 1],\n",
    "\t\t\tc = ListedColormap(('red', 'green'))(y_set))\n",
    "\n",
    "# title for scatter plot\n",
    "plt.title('Logistic Regression (Test set)')\n",
    "plt.xlabel('PC1') # for Xlabel\n",
    "plt.ylabel('PC2') # for Ylabel\n",
    "plt.legend()\n",
    "\n",
    "# show scatter plot\n",
    "plt.show()\n"
   ]
  },
  {
   "cell_type": "code",
   "execution_count": null,
   "metadata": {},
   "outputs": [],
   "source": []
  }
 ],
 "metadata": {
  "kernelspec": {
   "display_name": "env",
   "language": "python",
   "name": "python3"
  },
  "language_info": {
   "codemirror_mode": {
    "name": "ipython",
    "version": 3
   },
   "file_extension": ".py",
   "mimetype": "text/x-python",
   "name": "python",
   "nbconvert_exporter": "python",
   "pygments_lexer": "ipython3",
   "version": "3.10.9"
  },
  "orig_nbformat": 4
 },
 "nbformat": 4,
 "nbformat_minor": 2
}
